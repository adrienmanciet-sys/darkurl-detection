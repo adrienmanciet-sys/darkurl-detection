{
 "cells": [
  {
   "cell_type": "markdown",
   "id": "06dcc994",
   "metadata": {},
   "source": [
    "# ========================================================\n",
    "# Dark URL Detection\n",
    "# Adrien Manciet - Thibault Sourdeval\n",
    "# ========================================================"
   ]
  },
  {
   "cell_type": "code",
   "execution_count": null,
   "id": "15326439",
   "metadata": {},
   "outputs": [],
   "source": [
    "#Introduction"
   ]
  },
  {
   "cell_type": "markdown",
   "id": "c8f0d314",
   "metadata": {},
   "source": [
    "# =========================\n",
    "# Partie 1 : Phase d'exploration\n",
    "# ========================="
   ]
  },
  {
   "cell_type": "code",
   "execution_count": 1,
   "id": "2c2fc90f",
   "metadata": {},
   "outputs": [],
   "source": [
    "#Code"
   ]
  },
  {
   "cell_type": "markdown",
   "id": "d2ea2fd2",
   "metadata": {},
   "source": [
    "# =========================\n",
    "# Partie 2 : Feature Engineering\n",
    "# ========================="
   ]
  },
  {
   "cell_type": "code",
   "execution_count": 2,
   "id": "971170d8",
   "metadata": {},
   "outputs": [],
   "source": [
    "#Code"
   ]
  },
  {
   "cell_type": "markdown",
   "id": "cac87ff4",
   "metadata": {},
   "source": [
    "# =========================\n",
    "# Partie 3 : Phase d'apprentissage\n",
    "# ========================="
   ]
  },
  {
   "cell_type": "code",
   "execution_count": 3,
   "id": "54daede0",
   "metadata": {},
   "outputs": [],
   "source": [
    "#Code"
   ]
  },
  {
   "cell_type": "markdown",
   "id": "0662aa27",
   "metadata": {},
   "source": [
    "# =========================\n",
    "# Partie 4 : Tuning d'un hyperparamètre\n",
    "# ========================="
   ]
  },
  {
   "cell_type": "code",
   "execution_count": 4,
   "id": "2cb813cc",
   "metadata": {},
   "outputs": [],
   "source": [
    "#Code"
   ]
  },
  {
   "cell_type": "markdown",
   "id": "a83cd04f",
   "metadata": {},
   "source": [
    "# =========================\n",
    "# Partie 5 : Conclusions\n",
    "# ========================="
   ]
  },
  {
   "cell_type": "code",
   "execution_count": 5,
   "id": "0a89a8cd",
   "metadata": {},
   "outputs": [],
   "source": [
    "#Code"
   ]
  }
 ],
 "metadata": {
  "kernelspec": {
   "display_name": "base",
   "language": "python",
   "name": "python3"
  },
  "language_info": {
   "codemirror_mode": {
    "name": "ipython",
    "version": 3
   },
   "file_extension": ".py",
   "mimetype": "text/x-python",
   "name": "python",
   "nbconvert_exporter": "python",
   "pygments_lexer": "ipython3",
   "version": "3.13.5"
  }
 },
 "nbformat": 4,
 "nbformat_minor": 5
}
